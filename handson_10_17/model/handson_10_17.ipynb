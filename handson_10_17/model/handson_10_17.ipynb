{
  "nbformat": 4,
  "nbformat_minor": 0,
  "metadata": {
    "colab": {
      "provenance": []
    },
    "kernelspec": {
      "name": "python3",
      "display_name": "Python 3"
    },
    "language_info": {
      "name": "python"
    }
  },
  "cells": [
    {
      "cell_type": "code",
      "execution_count": 1,
      "metadata": {
        "colab": {
          "base_uri": "https://localhost:8080/"
        },
        "id": "l6N3XbjHkVVg",
        "outputId": "cb4bfe28-8ecb-4065-d0a6-67476b9e11af"
      },
      "outputs": [
        {
          "output_type": "stream",
          "name": "stdout",
          "text": [
            "Accuracy: 0.9874462943071965\n",
            "Classification Report:\n",
            "              precision    recall  f1-score   support\n",
            "\n",
            "           0       0.95      0.60      0.74       438\n",
            "           1       0.99      1.00      0.99     14458\n",
            "\n",
            "    accuracy                           0.99     14896\n",
            "   macro avg       0.97      0.80      0.87     14896\n",
            "weighted avg       0.99      0.99      0.99     14896\n",
            "\n"
          ]
        }
      ],
      "source": [
        "# Import necessary libraries\n",
        "import pandas as pd\n",
        "from sklearn.model_selection import train_test_split\n",
        "from sklearn.preprocessing import LabelEncoder\n",
        "from sklearn.ensemble import RandomForestClassifier\n",
        "from sklearn.metrics import accuracy_score, classification_report\n",
        "\n",
        "# Load the dataset\n",
        "file_path = \"/content/drive/MyDrive/MFG10YearTerminationData.csv\"\n",
        "df = pd.read_csv(file_path)\n",
        "\n",
        "# Encode categorical variables\n",
        "label_encoders = {}\n",
        "for col in ['department_name', 'job_title', 'gender_full', 'termreason_desc', 'BUSINESS_UNIT']:\n",
        "    le = LabelEncoder()\n",
        "    df[col] = le.fit_transform(df[col])\n",
        "    label_encoders[col] = le\n",
        "\n",
        "# Define features and target variable\n",
        "features = ['age', 'length_of_service', 'department_name', 'job_title', 'gender_full', 'BUSINESS_UNIT']\n",
        "X = df[features]\n",
        "y = df['STATUS'].apply(lambda x: 1 if x == 'ACTIVE' else 0)  # Encode 'ACTIVE' as 1, others as 0\n",
        "\n",
        "# Split the data\n",
        "X_train, X_test, y_train, y_test = train_test_split(X, y, test_size=0.3, random_state=42)\n",
        "\n",
        "# Train the Random Forest model\n",
        "model = RandomForestClassifier(n_estimators=100, random_state=42)\n",
        "model.fit(X_train, y_train)\n",
        "\n",
        "# Predict and evaluate\n",
        "y_pred = model.predict(X_test)\n",
        "accuracy = accuracy_score(y_test, y_pred)\n",
        "report = classification_report(y_test, y_pred)\n",
        "\n",
        "print(f\"Accuracy: {accuracy}\")\n",
        "print(f\"Classification Report:\\n{report}\")\n"
      ]
    }
  ]
}