{
  "nbformat": 4,
  "nbformat_minor": 0,
  "metadata": {
    "colab": {
      "provenance": []
    },
    "kernelspec": {
      "name": "python3",
      "display_name": "Python 3"
    },
    "language_info": {
      "name": "python"
    }
  },
  "cells": [
    {
      "cell_type": "code",
      "execution_count": 2,
      "metadata": {
        "colab": {
          "base_uri": "https://localhost:8080/"
        },
        "id": "l6N3XbjHkVVg",
        "outputId": "8fef001a-5d28-493a-b74c-e2d0546d0ff0"
      },
      "outputs": [
        {
          "output_type": "stream",
          "name": "stdout",
          "text": [
            " * Serving Flask app '__main__'\n",
            " * Debug mode: on\n"
          ]
        },
        {
          "output_type": "stream",
          "name": "stderr",
          "text": [
            "INFO:werkzeug:\u001b[31m\u001b[1mWARNING: This is a development server. Do not use it in a production deployment. Use a production WSGI server instead.\u001b[0m\n",
            " * Running on http://127.0.0.1:5000\n",
            "INFO:werkzeug:\u001b[33mPress CTRL+C to quit\u001b[0m\n",
            "INFO:werkzeug: * Restarting with stat\n"
          ]
        }
      ],
      "source": [
        "import matplotlib.pyplot as plt\n",
        "\n",
        "# Function to plot actual vs predicted status\n",
        "def plot_prediction_distribution(y_test, y_pred):\n",
        "    plt.figure(figsize=(8, 6))\n",
        "    plt.hist([y_test, y_pred], bins=2, label=['Actual', 'Predicted'], color=['blue', 'orange'])\n",
        "    plt.legend()\n",
        "    plt.title('Distribution of Actual vs Predicted Employee Status')\n",
        "    plt.show()\n",
        "\n",
        "plot_prediction_distribution(y_test, y_pred)\n"
      ]
    }
  ]
}