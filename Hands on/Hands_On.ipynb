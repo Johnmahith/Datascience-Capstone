{
  "nbformat": 4,
  "nbformat_minor": 0,
  "metadata": {
    "colab": {
      "provenance": []
    },
    "kernelspec": {
      "name": "python3",
      "display_name": "Python 3"
    },
    "language_info": {
      "name": "python"
    }
  },
  "cells": [
    {
      "cell_type": "markdown",
      "source": [
        "•\tLoad Dataset:"
      ],
      "metadata": {
        "id": "3GFbDqn-Vx8n"
      }
    },
    {
      "cell_type": "code",
      "source": [
        "import pandas as pd\n",
        "\n",
        "# Load the dataset\n",
        "data = pd.read_csv('/content/drive/MyDrive/MFG10YearTerminationData.csv')\n",
        "\n",
        "# Display the first few rows of the dataset\n",
        "print(data.head())\n"
      ],
      "metadata": {
        "colab": {
          "base_uri": "https://localhost:8080/"
        },
        "id": "wkhkXLX5ZQEr",
        "outputId": "c250b394-3c69-411d-b010-6328dadc376b"
      },
      "execution_count": 4,
      "outputs": [
        {
          "output_type": "stream",
          "name": "stdout",
          "text": [
            "   EmployeeID   recorddate_key birthdate_key orighiredate_key  \\\n",
            "0        1318  12/31/2006 0:00      1/3/1954        8/28/1989   \n",
            "1        1318  12/31/2007 0:00      1/3/1954        8/28/1989   \n",
            "2        1318  12/31/2008 0:00      1/3/1954        8/28/1989   \n",
            "3        1318  12/31/2009 0:00      1/3/1954        8/28/1989   \n",
            "4        1318  12/31/2010 0:00      1/3/1954        8/28/1989   \n",
            "\n",
            "  terminationdate_key  age  length_of_service  city_name department_name  \\\n",
            "0            1/1/1900   52                 17  Vancouver       Executive   \n",
            "1            1/1/1900   53                 18  Vancouver       Executive   \n",
            "2            1/1/1900   54                 19  Vancouver       Executive   \n",
            "3            1/1/1900   55                 20  Vancouver       Executive   \n",
            "4            1/1/1900   56                 21  Vancouver       Executive   \n",
            "\n",
            "  job_title  store_name gender_short gender_full termreason_desc  \\\n",
            "0       CEO          35            M        Male  Not Applicable   \n",
            "1       CEO          35            M        Male  Not Applicable   \n",
            "2       CEO          35            M        Male  Not Applicable   \n",
            "3       CEO          35            M        Male  Not Applicable   \n",
            "4       CEO          35            M        Male  Not Applicable   \n",
            "\n",
            "    termtype_desc  STATUS_YEAR  STATUS BUSINESS_UNIT  \n",
            "0  Not Applicable         2006  ACTIVE    HEADOFFICE  \n",
            "1  Not Applicable         2007  ACTIVE    HEADOFFICE  \n",
            "2  Not Applicable         2008  ACTIVE    HEADOFFICE  \n",
            "3  Not Applicable         2009  ACTIVE    HEADOFFICE  \n",
            "4  Not Applicable         2010  ACTIVE    HEADOFFICE  \n"
          ]
        }
      ]
    },
    {
      "cell_type": "markdown",
      "source": [
        "- Display Column Names\n"
      ],
      "metadata": {
        "id": "u9xcc_777ABG"
      }
    },
    {
      "cell_type": "code",
      "source": [
        "# Display column names\n",
        "print(data.columns)\n"
      ],
      "metadata": {
        "colab": {
          "base_uri": "https://localhost:8080/"
        },
        "id": "6r4C5foR1YW9",
        "outputId": "cb79b764-f891-42f8-d2a1-870827ef0a52"
      },
      "execution_count": 6,
      "outputs": [
        {
          "output_type": "stream",
          "name": "stdout",
          "text": [
            "Index(['EmployeeID', 'recorddate_key', 'birthdate_key', 'orighiredate_key',\n",
            "       'terminationdate_key', 'age', 'length_of_service', 'city_name',\n",
            "       'department_name', 'job_title', 'store_name', 'gender_short',\n",
            "       'gender_full', 'termreason_desc', 'termtype_desc', 'STATUS_YEAR',\n",
            "       'STATUS', 'BUSINESS_UNIT'],\n",
            "      dtype='object')\n"
          ]
        }
      ]
    },
    {
      "cell_type": "markdown",
      "source": [
        "- Data Preprocessing"
      ],
      "metadata": {
        "id": "CSOWOl0m7PfJ"
      }
    },
    {
      "cell_type": "code",
      "source": [
        "from sklearn.model_selection import train_test_split\n",
        "from sklearn.preprocessing import StandardScaler, LabelEncoder\n",
        "\n",
        "# Handling missing values if any\n",
        "data = data.dropna()\n",
        "\n",
        "# Convert the date column to datetime format\n",
        "data['terminationdate_key'] = pd.to_datetime(data['terminationdate_key'])\n",
        "\n",
        "# Extract year, month, and day from the date\n",
        "data['year'] = data['terminationdate_key'].dt.year\n",
        "data['month'] = data['terminationdate_key'].dt.month\n",
        "data['day'] = data['terminationdate_key'].dt.day\n",
        "\n",
        "# Drop the original date column\n",
        "data = data.drop(columns=['terminationdate_key'])\n",
        "\n",
        "# Encoding categorical variables\n",
        "label_encoder = LabelEncoder()\n",
        "data['target_column'] = label_encoder.fit_transform(data['STATUS'])\n",
        "\n",
        "# Encode other categorical columns\n",
        "categorical_columns = data.select_dtypes(include=['object']).columns\n",
        "\n",
        "for col in categorical_columns:\n",
        "    data[col] = label_encoder.fit_transform(data[col])\n",
        "\n",
        "# Splitting features and target\n",
        "X = data.drop(columns=['target_column'])\n",
        "y = data['target_column']\n",
        "\n",
        "# Split the dataset into training and test sets\n",
        "X_train, X_test, y_train, y_test = train_test_split(X, y, test_size=0.2, random_state=42)\n",
        "\n",
        "# Feature scaling\n",
        "scaler = StandardScaler()\n",
        "X_train = scaler.fit_transform(X_train)\n",
        "X_test = scaler.transform(X_test)\n"
      ],
      "metadata": {
        "id": "fm_tNgBCzFNX"
      },
      "execution_count": 11,
      "outputs": []
    },
    {
      "cell_type": "markdown",
      "source": [
        "- Build and Train the Deep Learning Model"
      ],
      "metadata": {
        "id": "kD9dpc6z7U6i"
      }
    },
    {
      "cell_type": "code",
      "source": [
        "import tensorflow as tf\n",
        "from tensorflow.keras.models import Sequential\n",
        "from tensorflow.keras.layers import Dense\n",
        "\n",
        "# Building the model\n",
        "model = Sequential()\n",
        "model.add(Dense(32, input_dim=X_train.shape[1], activation='relu'))\n",
        "model.add(Dense(16, activation='relu'))\n",
        "model.add(Dense(1, activation='sigmoid'))  # Assuming binary classification; use 'softmax' for multi-class\n",
        "\n",
        "# Compile the model\n",
        "model.compile(optimizer='adam', loss='binary_crossentropy', metrics=['accuracy'])\n",
        "\n",
        "# Train the model\n",
        "history = model.fit(X_train, y_train, epochs=50, batch_size=32, validation_split=0.2)\n"
      ],
      "metadata": {
        "colab": {
          "base_uri": "https://localhost:8080/"
        },
        "id": "gY-EpkMmzGMg",
        "outputId": "c828ee6d-9767-49b4-e898-0dd2ac56fe31"
      },
      "execution_count": 12,
      "outputs": [
        {
          "output_type": "stream",
          "name": "stdout",
          "text": [
            "Epoch 1/50\n",
            "994/994 [==============================] - 4s 3ms/step - loss: 0.0428 - accuracy: 0.9922 - val_loss: 5.4525e-04 - val_accuracy: 1.0000\n",
            "Epoch 2/50\n",
            "994/994 [==============================] - 2s 2ms/step - loss: 2.2855e-04 - accuracy: 1.0000 - val_loss: 1.0495e-04 - val_accuracy: 1.0000\n",
            "Epoch 3/50\n",
            "994/994 [==============================] - 2s 2ms/step - loss: 6.0846e-05 - accuracy: 1.0000 - val_loss: 3.8978e-05 - val_accuracy: 1.0000\n",
            "Epoch 4/50\n",
            "994/994 [==============================] - 3s 3ms/step - loss: 2.4666e-05 - accuracy: 1.0000 - val_loss: 1.7863e-05 - val_accuracy: 1.0000\n",
            "Epoch 5/50\n",
            "994/994 [==============================] - 3s 3ms/step - loss: 1.1676e-05 - accuracy: 1.0000 - val_loss: 8.9641e-06 - val_accuracy: 1.0000\n",
            "Epoch 6/50\n",
            "994/994 [==============================] - 3s 3ms/step - loss: 5.9644e-06 - accuracy: 1.0000 - val_loss: 4.7266e-06 - val_accuracy: 1.0000\n",
            "Epoch 7/50\n",
            "994/994 [==============================] - 2s 2ms/step - loss: 3.1863e-06 - accuracy: 1.0000 - val_loss: 2.5941e-06 - val_accuracy: 1.0000\n",
            "Epoch 8/50\n",
            "994/994 [==============================] - 2s 2ms/step - loss: 1.7440e-06 - accuracy: 1.0000 - val_loss: 1.4410e-06 - val_accuracy: 1.0000\n",
            "Epoch 9/50\n",
            "994/994 [==============================] - 2s 2ms/step - loss: 9.7188e-07 - accuracy: 1.0000 - val_loss: 8.2775e-07 - val_accuracy: 1.0000\n",
            "Epoch 10/50\n",
            "994/994 [==============================] - 4s 4ms/step - loss: 5.4858e-07 - accuracy: 1.0000 - val_loss: 4.7393e-07 - val_accuracy: 1.0000\n",
            "Epoch 11/50\n",
            "994/994 [==============================] - 3s 3ms/step - loss: 3.1128e-07 - accuracy: 1.0000 - val_loss: 2.7465e-07 - val_accuracy: 1.0000\n",
            "Epoch 12/50\n",
            "994/994 [==============================] - 2s 2ms/step - loss: 1.7783e-07 - accuracy: 1.0000 - val_loss: 1.6081e-07 - val_accuracy: 1.0000\n",
            "Epoch 13/50\n",
            "994/994 [==============================] - 2s 2ms/step - loss: 1.0244e-07 - accuracy: 1.0000 - val_loss: 9.4314e-08 - val_accuracy: 1.0000\n",
            "Epoch 14/50\n",
            "994/994 [==============================] - 2s 2ms/step - loss: 5.9130e-08 - accuracy: 1.0000 - val_loss: 5.5174e-08 - val_accuracy: 1.0000\n",
            "Epoch 15/50\n",
            "994/994 [==============================] - 3s 3ms/step - loss: 3.4341e-08 - accuracy: 1.0000 - val_loss: 3.2521e-08 - val_accuracy: 1.0000\n",
            "Epoch 16/50\n",
            "994/994 [==============================] - 3s 3ms/step - loss: 2.0130e-08 - accuracy: 1.0000 - val_loss: 1.9622e-08 - val_accuracy: 1.0000\n",
            "Epoch 17/50\n",
            "994/994 [==============================] - 2s 2ms/step - loss: 1.1906e-08 - accuracy: 1.0000 - val_loss: 1.1905e-08 - val_accuracy: 1.0000\n",
            "Epoch 18/50\n",
            "994/994 [==============================] - 2s 2ms/step - loss: 7.1464e-09 - accuracy: 1.0000 - val_loss: 7.5066e-09 - val_accuracy: 1.0000\n",
            "Epoch 19/50\n",
            "994/994 [==============================] - 2s 2ms/step - loss: 4.3877e-09 - accuracy: 1.0000 - val_loss: 4.5711e-09 - val_accuracy: 1.0000\n",
            "Epoch 20/50\n",
            "994/994 [==============================] - 2s 2ms/step - loss: 2.7188e-09 - accuracy: 1.0000 - val_loss: 2.9839e-09 - val_accuracy: 1.0000\n",
            "Epoch 21/50\n",
            "994/994 [==============================] - 3s 3ms/step - loss: 1.7538e-09 - accuracy: 1.0000 - val_loss: 1.9459e-09 - val_accuracy: 1.0000\n",
            "Epoch 22/50\n",
            "994/994 [==============================] - 3s 3ms/step - loss: 1.1503e-09 - accuracy: 1.0000 - val_loss: 1.3143e-09 - val_accuracy: 1.0000\n",
            "Epoch 23/50\n",
            "994/994 [==============================] - 3s 3ms/step - loss: 7.8048e-10 - accuracy: 1.0000 - val_loss: 9.1747e-10 - val_accuracy: 1.0000\n",
            "Epoch 24/50\n",
            "994/994 [==============================] - 3s 3ms/step - loss: 5.5195e-10 - accuracy: 1.0000 - val_loss: 6.7550e-10 - val_accuracy: 1.0000\n",
            "Epoch 25/50\n",
            "994/994 [==============================] - 2s 2ms/step - loss: 4.0532e-10 - accuracy: 1.0000 - val_loss: 4.9840e-10 - val_accuracy: 1.0000\n",
            "Epoch 26/50\n",
            "994/994 [==============================] - 3s 3ms/step - loss: 2.9981e-10 - accuracy: 1.0000 - val_loss: 3.9475e-10 - val_accuracy: 1.0000\n",
            "Epoch 27/50\n",
            "994/994 [==============================] - 3s 3ms/step - loss: 2.3839e-10 - accuracy: 1.0000 - val_loss: 3.1707e-10 - val_accuracy: 1.0000\n",
            "Epoch 28/50\n",
            "994/994 [==============================] - 2s 2ms/step - loss: 1.9171e-10 - accuracy: 1.0000 - val_loss: 2.6699e-10 - val_accuracy: 1.0000\n",
            "Epoch 29/50\n",
            "994/994 [==============================] - 2s 2ms/step - loss: 1.5997e-10 - accuracy: 1.0000 - val_loss: 2.3788e-10 - val_accuracy: 1.0000\n",
            "Epoch 30/50\n",
            "994/994 [==============================] - 2s 2ms/step - loss: 1.3881e-10 - accuracy: 1.0000 - val_loss: 2.2078e-10 - val_accuracy: 1.0000\n",
            "Epoch 31/50\n",
            "994/994 [==============================] - 3s 3ms/step - loss: 1.2411e-10 - accuracy: 1.0000 - val_loss: 2.1023e-10 - val_accuracy: 1.0000\n",
            "Epoch 32/50\n",
            "994/994 [==============================] - 4s 4ms/step - loss: 1.1539e-10 - accuracy: 1.0000 - val_loss: 1.9427e-10 - val_accuracy: 1.0000\n",
            "Epoch 33/50\n",
            "994/994 [==============================] - 2s 2ms/step - loss: 1.0655e-10 - accuracy: 1.0000 - val_loss: 1.8481e-10 - val_accuracy: 1.0000\n",
            "Epoch 34/50\n",
            "994/994 [==============================] - 2s 2ms/step - loss: 9.7713e-11 - accuracy: 1.0000 - val_loss: 1.7605e-10 - val_accuracy: 1.0000\n",
            "Epoch 35/50\n",
            "994/994 [==============================] - 2s 2ms/step - loss: 9.2122e-11 - accuracy: 1.0000 - val_loss: 1.7331e-10 - val_accuracy: 1.0000\n",
            "Epoch 36/50\n",
            "994/994 [==============================] - 2s 2ms/step - loss: 8.7774e-11 - accuracy: 1.0000 - val_loss: 1.7046e-10 - val_accuracy: 1.0000\n",
            "Epoch 37/50\n",
            "994/994 [==============================] - 3s 3ms/step - loss: 8.4866e-11 - accuracy: 1.0000 - val_loss: 1.6743e-10 - val_accuracy: 1.0000\n",
            "Epoch 38/50\n",
            "994/994 [==============================] - 3s 3ms/step - loss: 8.0902e-11 - accuracy: 1.0000 - val_loss: 1.6427e-10 - val_accuracy: 1.0000\n",
            "Epoch 39/50\n",
            "994/994 [==============================] - 2s 2ms/step - loss: 7.7671e-11 - accuracy: 1.0000 - val_loss: 1.6097e-10 - val_accuracy: 1.0000\n",
            "Epoch 40/50\n",
            "994/994 [==============================] - 2s 2ms/step - loss: 7.4911e-11 - accuracy: 1.0000 - val_loss: 1.5752e-10 - val_accuracy: 1.0000\n",
            "Epoch 41/50\n",
            "994/994 [==============================] - 2s 2ms/step - loss: 7.1921e-11 - accuracy: 1.0000 - val_loss: 1.5398e-10 - val_accuracy: 1.0000\n",
            "Epoch 42/50\n",
            "994/994 [==============================] - 2s 2ms/step - loss: 6.9060e-11 - accuracy: 1.0000 - val_loss: 1.5040e-10 - val_accuracy: 1.0000\n",
            "Epoch 43/50\n",
            "994/994 [==============================] - 3s 3ms/step - loss: 6.7240e-11 - accuracy: 1.0000 - val_loss: 1.4666e-10 - val_accuracy: 1.0000\n",
            "Epoch 44/50\n",
            "994/994 [==============================] - 3s 3ms/step - loss: 6.4306e-11 - accuracy: 1.0000 - val_loss: 1.4293e-10 - val_accuracy: 1.0000\n",
            "Epoch 45/50\n",
            "994/994 [==============================] - 2s 2ms/step - loss: 6.3118e-11 - accuracy: 1.0000 - val_loss: 1.3911e-10 - val_accuracy: 1.0000\n",
            "Epoch 46/50\n",
            "994/994 [==============================] - 2s 2ms/step - loss: 6.0449e-11 - accuracy: 1.0000 - val_loss: 1.3528e-10 - val_accuracy: 1.0000\n",
            "Epoch 47/50\n",
            "994/994 [==============================] - 2s 2ms/step - loss: 5.8615e-11 - accuracy: 1.0000 - val_loss: 1.3573e-10 - val_accuracy: 1.0000\n",
            "Epoch 48/50\n",
            "994/994 [==============================] - 2s 2ms/step - loss: 5.7528e-11 - accuracy: 1.0000 - val_loss: 1.3612e-10 - val_accuracy: 1.0000\n",
            "Epoch 49/50\n",
            "994/994 [==============================] - 4s 4ms/step - loss: 5.6589e-11 - accuracy: 1.0000 - val_loss: 1.3637e-10 - val_accuracy: 1.0000\n",
            "Epoch 50/50\n",
            "994/994 [==============================] - 2s 2ms/step - loss: 5.5332e-11 - accuracy: 1.0000 - val_loss: 1.3666e-10 - val_accuracy: 1.0000\n"
          ]
        }
      ]
    },
    {
      "cell_type": "markdown",
      "source": [
        "- Evaluate the Model"
      ],
      "metadata": {
        "id": "EHdQrpYt7Yzs"
      }
    },
    {
      "cell_type": "code",
      "source": [
        "# Evaluate the model\n",
        "loss, accuracy = model.evaluate(X_test, y_test)\n",
        "print(f'Test Accuracy: {accuracy:.2f}')\n"
      ],
      "metadata": {
        "colab": {
          "base_uri": "https://localhost:8080/"
        },
        "id": "96n7JlBEzZta",
        "outputId": "78b9d261-1c3d-4856-eda4-7305f7b2ef34"
      },
      "execution_count": 13,
      "outputs": [
        {
          "output_type": "stream",
          "name": "stdout",
          "text": [
            "311/311 [==============================] - 0s 1ms/step - loss: 5.0195e-11 - accuracy: 1.0000\n",
            "Test Accuracy: 1.00\n"
          ]
        }
      ]
    },
    {
      "cell_type": "markdown",
      "source": [
        "- Visualizing Training History"
      ],
      "metadata": {
        "id": "seVgjN657hjS"
      }
    },
    {
      "cell_type": "code",
      "source": [
        "import matplotlib.pyplot as plt\n",
        "\n",
        "# Plotting training & validation accuracy values\n",
        "plt.figure(figsize=(12, 4))\n",
        "plt.subplot(1, 2, 1)\n",
        "plt.plot(history.history['accuracy'])\n",
        "plt.plot(history.history['val_accuracy'])\n",
        "plt.title('Model accuracy')\n",
        "plt.ylabel('Accuracy')\n",
        "plt.xlabel('Epoch')\n",
        "plt.legend(['Train', 'Validation'], loc='upper left')\n",
        "\n",
        "# Plotting training & validation loss values\n",
        "plt.subplot(1, 2, 2)\n",
        "plt.plot(history.history['loss'])\n",
        "plt.plot(history.history['val_loss'])\n",
        "plt.title('Model loss')\n",
        "plt.ylabel('Loss')\n",
        "plt.xlabel('Epoch')\n",
        "plt.legend(['Train', 'Validation'], loc='upper left')\n",
        "\n",
        "plt.show()\n"
      ],
      "metadata": {
        "colab": {
          "base_uri": "https://localhost:8080/",
          "height": 332
        },
        "id": "EGLTO3qlzc4_",
        "outputId": "ef5aff48-b519-425c-d86d-6261b561b9c6"
      },
      "execution_count": 14,
      "outputs": [
        {
          "output_type": "display_data",
          "data": {
            "text/plain": [
              "<Figure size 1200x400 with 2 Axes>"
            ],
            "image/png": "[encoded data removed]"
          },
          "metadata": {}
        }
      ]
    },
    {
      "cell_type": "markdown",
      "source": [
        "- Visualizing Confusion Matrix"
      ],
      "metadata": {
        "id": "B4QIxLFy7lYO"
      }
    },
    {
      "cell_type": "code",
      "source": [
        "from sklearn.metrics import confusion_matrix, ConfusionMatrixDisplay\n",
        "\n",
        "# Predicting the labels on the test set\n",
        "y_pred = model.predict(X_test)\n",
        "y_pred_classes = (y_pred > 0.5).astype(int).reshape(-1)\n",
        "\n",
        "# Confusion matrix\n",
        "cm = confusion_matrix(y_test, y_pred_classes)\n",
        "disp = ConfusionMatrixDisplay(confusion_matrix=cm)\n",
        "disp.plot(cmap=plt.cm.Blues)\n",
        "plt.show()\n"
      ],
      "metadata": {
        "colab": {
          "base_uri": "https://localhost:8080/",
          "height": 467
        },
        "id": "NnZuE3gezfv-",
        "outputId": "a616aad8-88c7-4889-a17d-ddf1218e2758"
      },
      "execution_count": 15,
      "outputs": [
        {
          "output_type": "stream",
          "name": "stdout",
          "text": [
            "311/311 [==============================] - 0s 1ms/step\n"
          ]
        },
        {
          "output_type": "display_data",
          "data": {
            "text/plain": [
              "<Figure size 640x480 with 2 Axes>"
            ],
            "image/png": "[encoded data removed]"
          },
          "metadata": {}
        }
      ]
    }
  ]
}